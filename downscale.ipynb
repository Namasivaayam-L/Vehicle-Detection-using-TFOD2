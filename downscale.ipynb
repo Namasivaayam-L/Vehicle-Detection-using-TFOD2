{
 "cells": [
  {
   "cell_type": "code",
   "execution_count": 5,
   "metadata": {},
   "outputs": [],
   "source": [
    "import cv2,os   \n",
    "base_dir = './data/bluefox/'\n",
    "new_dir = './data/resized_640x640/'"
   ]
  },
  {
   "cell_type": "code",
   "execution_count": 12,
   "metadata": {},
   "outputs": [],
   "source": [
    "for folder in os.listdir(base_dir):\n",
    "    for sub_folder in os.listdir(base_dir+folder):\n",
    "        for image in os.listdir(base_dir+folder+'/'+sub_folder):\n",
    "            cv2.imwrite(new_dir+sub_folder+'/'+image, cv2.resize(cv2.imread(base_dir+folder+'/'+sub_folder+'/'+image), (640, 640)))"
   ]
  },
  {
   "cell_type": "code",
   "execution_count": null,
   "metadata": {},
   "outputs": [],
   "source": [
    "    # print(base_dir+image)\n",
    "    # cv2.imshow('Image', cv2.imread(base_dir+image))\n",
    "    # if cv2.waitKey(1000) == -1:\n",
    "    #     cv2.destroyAllWindows()   \n"
   ]
  }
 ],
 "metadata": {
  "kernelspec": {
   "display_name": "Python 3",
   "language": "python",
   "name": "python3"
  },
  "language_info": {
   "codemirror_mode": {
    "name": "ipython",
    "version": 3
   },
   "file_extension": ".py",
   "mimetype": "text/x-python",
   "name": "python",
   "nbconvert_exporter": "python",
   "pygments_lexer": "ipython3",
   "version": "3.10.6"
  },
  "orig_nbformat": 4
 },
 "nbformat": 4,
 "nbformat_minor": 2
}
